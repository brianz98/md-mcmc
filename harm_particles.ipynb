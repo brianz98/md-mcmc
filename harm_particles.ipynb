{
 "cells": [
  {
   "cell_type": "code",
   "execution_count": 1,
   "id": "3d2268d9",
   "metadata": {},
   "outputs": [],
   "source": [
    "import numpy as np\n",
    "import matplotlib.pyplot as plt\n",
    "import time\n",
    "import math\n",
    "import scipy.constants\n",
    "import random\n",
    "kb = scipy.constants.k"
   ]
  },
  {
   "cell_type": "markdown",
   "id": "57059dcb",
   "metadata": {},
   "source": [
    "Energy of harmonic oscillator is\n",
    "\n",
    "E = 1/2 kx^2 + 1/2 mv^2\n",
    "\n",
    "Newton's law of motion:\n",
    "\n",
    "F = ma = kx"
   ]
  },
  {
   "cell_type": "code",
   "execution_count": 2,
   "id": "0961d43f",
   "metadata": {},
   "outputs": [],
   "source": [
    "class HarmParticle:\n",
    "    def __init__(self, x0:float, v0:float, integrator):\n",
    "        # Initial conditions\n",
    "        self.x0 = x0\n",
    "        self.v0 = v0\n",
    "        self.a0 = NotImplemented\n",
    "        self.iter = -1 # So that the storage index is intuitive\n",
    "        \n",
    "        # integrator\n",
    "        self.integrator = integrator\n",
    "        \n",
    "        # Properties\n",
    "        self.x = NotImplemented\n",
    "        self.v = NotImplemented\n",
    "        self.a = NotImplemented\n",
    "        self.ke = NotImplemented\n",
    "        self.pe = NotImplemented\n",
    "        self.etot = NotImplemented\n",
    "        \n",
    "        # Scratch variable for Verlet\n",
    "        self.x_old = NotImplemented\n",
    "        \n",
    "        # Data storage\n",
    "        self.x_traj = NotImplemented\n",
    "        self.v_traj = NotImplemented\n",
    "        \n",
    "        self.initialise()\n",
    "        \n",
    "    def initialise(self):\n",
    "        if self.iter != -1:\n",
    "            raise RuntimeError(\"Particle.initialise() called after instantiation\")\n",
    "        else:\n",
    "            self.x = self.x0\n",
    "            self.v = self.v0\n",
    "            self.energyEval()\n",
    "            self.forceEval()\n",
    "            self.a0 = self.a # So that the complete set of initial conditions is available\n",
    "            self.x_traj = [self.x]\n",
    "            self.v_traj = [self.v]\n",
    "            self.iter += 1\n",
    "    \n",
    "    def energyEval(self):\n",
    "        self.ke = 0.5 * self.v**2\n",
    "        self.pe = 0.5 * self.x**2\n",
    "        self.etot = self.ke + self.pe\n",
    "        \n",
    "    def forceEval(self):\n",
    "        # currently trivial and unncessary, but in case we need to change\n",
    "        self.a = -self.x\n",
    "    \n",
    "    def takeStep(self, maxIter):\n",
    "        while self.iter < maxIter:\n",
    "            self.integrator(self)\n",
    "            self.x_traj.append(self.x)\n",
    "            self.v_traj.append(self.v)\n",
    "            self.iter += 1\n",
    "    \n",
    "    def reset(self):\n",
    "        self.iter = -1\n",
    "        self.initialise()\n",
    "        "
   ]
  },
  {
   "cell_type": "code",
   "execution_count": 3,
   "id": "e7327606",
   "metadata": {},
   "outputs": [],
   "source": [
    "  class Integrator:\n",
    "    def __init__(self, dt):\n",
    "        self.dt = dt\n",
    "    \n",
    "    def eulerStep(self, pt):\n",
    "        pt.x = pt.x + pt.v * self.dt\n",
    "        pt.v = pt.v + pt.a * self.dt\n",
    "        pt.forceEval()\n",
    "        \n",
    "    def verletStep(self, pt):\n",
    "        if pt.iter == 0:\n",
    "            # first Verlet iteration has to be Euler\n",
    "            pt.x_old = pt.x + pt.v * self.dt\n",
    "            pt.forceEval()\n",
    "        \n",
    "        x_new = 2*pt.x - pt.x_old + pt.a*(self.dt**2)\n",
    "        pt.v = (x_new - pt.x_old)/(2*self.dt)\n",
    "        pt.x_old = pt.x\n",
    "        pt.x = x_new\n",
    "        pt.forceEval()"
   ]
  },
  {
   "cell_type": "code",
   "execution_count": 73,
   "id": "9a7c34a8",
   "metadata": {},
   "outputs": [
    {
     "data": {
      "image/png": "[encoded data removed]",
      "text/plain": [
       "<Figure size 432x288 with 1 Axes>"
      ]
     },
     "metadata": {
      "needs_background": "light"
     },
     "output_type": "display_data"
    }
   ],
   "source": [
    "myEuler = Integrator(0.1).eulerStep\n",
    "p1 = HarmParticle(1.0, 0.0, myEuler)\n",
    "p1.takeStep(500)\n",
    "plt.scatter(p1.x_traj,p1.v_traj)\n",
    "p1.reset()"
   ]
  },
  {
   "cell_type": "code",
   "execution_count": 112,
   "id": "87431841",
   "metadata": {},
   "outputs": [
    {
     "data": {
      "image/png": "[encoded data removed]",
      "text/plain": [
       "<Figure size 432x288 with 1 Axes>"
      ]
     },
     "metadata": {
      "needs_background": "light"
     },
     "output_type": "display_data"
    }
   ],
   "source": [
    "myVerlet = Integrator(0.05).verletStep\n",
    "p1 = HarmParticle(0, 1.2, myVerlet)\n",
    "p1.takeStep(1000)\n",
    "plt.scatter(p1.x_traj,p1.v_traj)\n",
    "p1.reset()"
   ]
  },
  {
   "cell_type": "code",
   "execution_count": null,
   "id": "d9cd8241",
   "metadata": {},
   "outputs": [],
   "source": []
  }
 ],
 "metadata": {
  "kernelspec": {
   "display_name": "Python 3",
   "language": "python",
   "name": "python3"
  },
  "language_info": {
   "codemirror_mode": {
    "name": "ipython",
    "version": 3
   },
   "file_extension": ".py",
   "mimetype": "text/x-python",
   "name": "python",
   "nbconvert_exporter": "python",
   "pygments_lexer": "ipython3",
   "version": "3.8.8"
  }
 },
 "nbformat": 4,
 "nbformat_minor": 5
}
