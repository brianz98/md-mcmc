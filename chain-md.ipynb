{
 "cells": [
  {
   "cell_type": "code",
   "execution_count": 24,
   "id": "3d2268d9",
   "metadata": {},
   "outputs": [],
   "source": [
    "import numpy as np\n",
    "import matplotlib.pyplot as plt\n",
    "import time\n",
    "import math\n",
    "import scipy.constants\n",
    "import random"
   ]
  },
  {
   "cell_type": "code",
   "execution_count": 10,
   "id": "1005ae57",
   "metadata": {},
   "outputs": [],
   "source": [
    "class ParticleChain:\n",
    "    def __init__(self, numpt, potfun, potder, dt, gamma, T, eqmL=1):\n",
    "        # Initial conditions\n",
    "        self.x0 = NotImplemented\n",
    "        self.v0 = NotImplemented\n",
    "        self.a0 = NotImplemented\n",
    "        self.iter = -1 # So that the storage index is intuitive\n",
    "        \n",
    "        # parameters\n",
    "        self.numpt = numpt\n",
    "        self.eqmL = eqmL\n",
    "        self.potfun = potfun\n",
    "        self.potder = potder\n",
    "        self.dt = dt\n",
    "        self.gamma = gamma\n",
    "        self.T = T\n",
    "        \n",
    "        # Properties\n",
    "        self.x = NotImplemented\n",
    "        self.v = NotImplemented\n",
    "        self.a = NotImplemented\n",
    "        self.ke = NotImplemented\n",
    "        self.pe = NotImplemented\n",
    "        self.etot = NotImplemented\n",
    "        \n",
    "        # Scratch variable for Verlet\n",
    "        self.x_old = NotImplemented\n",
    "        self.x_half = NotImplemented\n",
    "        self.v_half = NotImplemented\n",
    "        \n",
    "        # Data storage\n",
    "        self.ke_traj = NotImplemented\n",
    "        self.pe_traj = NotImplemented\n",
    "        self.etot_traj = NotImplemented\n",
    "        \n",
    "        self.initialise()\n",
    "        \n",
    "    def initialise(self):\n",
    "        if self.iter != -1:\n",
    "            raise RuntimeError(\"Particle.initialise() called after instantiation\")\n",
    "        else:\n",
    "            self.ke_traj = []\n",
    "            self.pe_traj = []\n",
    "            self.etot_traj = []\n",
    "\n",
    "            self.x = np.array([i for i in np.linspace(0, self.eqmL*(self.numpt-1), self.numpt)])\n",
    "            self.x0 = np.copy(self.x)\n",
    "            self.v = np.random.rand(self.numpt)\n",
    "            self.v -= np.average(self.v) # zero the CoM motion\n",
    "            self.v0 = np.copy(self.v)\n",
    "            self.a = np.zeros(self.numpt)\n",
    "            pairWiseDist = (self.x[:-1] - self.x[1:]) + self.eqmL # this is defined for [0:N-1]\n",
    "            self.forceEval(pairWiseDist)\n",
    "            self.energyEval(pairWiseDist)\n",
    "            self.updateTraj()\n",
    "            self.a0 = np.copy(self.a) # So that the complete set of initial conditions is available\n",
    "            self.iter += 1\n",
    "    \n",
    "    def integrator_old(self):\n",
    "        # Vanilla Verlet\n",
    "        if self.iter == 0:\n",
    "            # first Verlet iteration has to be Euler\n",
    "            self.x_old = self.x + self.v * self.dt\n",
    "            self.efEval()\n",
    "            self.iter += 1\n",
    "            self.updateTraj()\n",
    "        \n",
    "        x_new = 2*self.x - self.x_old + self.a*(self.dt**2)\n",
    "        self.v = (x_new - self.x_old)/(2*self.dt)\n",
    "        self.x_old = np.copy(self.x)\n",
    "        self.x = np.copy(x_new)\n",
    "        self.efEval()\n",
    "        self.updateTraj()\n",
    "        self.iter += 1\n",
    "        \n",
    "    def integrator(self):\n",
    "        # Leap-frog?\n",
    "        \n",
    "        self.v_half = self.v + self.a * self.dt/2\n",
    "        self.x_half = self.x + self.v_half * self.dt/2\n",
    "        self.v_half = math.exp(-self.gamma*self.dt)*self.v_half+math.sqrt(self.T*(1-math.exp(-2*self.gamma*self.dt)))*np.random.normal(0,1,self.numpt)\n",
    "        self.x = self.x_half + self.v_half * self.dt/2\n",
    "        pairWiseDist = (self.x[:-1] - self.x[1:]) + self.eqmL # this is defined for [0:N-1]\n",
    "        self.forceEval(pairWiseDist) # updates acceleration but not v_half or x_half\n",
    "        self.v = self.v_half + self.a * self.dt/2\n",
    "        self.energyEval(pairWiseDist)\n",
    "        self.updateTraj()\n",
    "        self.iter += 1\n",
    "        \n",
    "    def energyEval(self, pwd):\n",
    "        # energy and force evaluated together as intermediates can be reused \n",
    "        self.ke = (0.5*(self.v)**2).sum()        \n",
    "        self.pe = np.array(list(map(self.potfun, pwd))).sum()\n",
    "        self.etot = self.ke + self.pe\n",
    "        \n",
    "    def forceEval(self,pwd):\n",
    "        self.a[0] = -self.potder(pwd[0]) # negative derivative is positive force\n",
    "        self.a[-1] = self.potder(pwd[-1]) # positive derivative is negative force\n",
    "        self.a[1:-1] = [-self.potder(pwd[i])+self.potder(pwd[i-1]) for i in range(1,self.numpt-1)]\n",
    "    \n",
    "    def updateTraj(self):\n",
    "        self.ke_traj.append(self.ke)\n",
    "        self.pe_traj.append(self.pe)\n",
    "        self.etot_traj.append(self.etot)\n",
    "\n",
    "    def takeStep(self, maxIter):\n",
    "        while self.iter < maxIter:\n",
    "            self.integrator()\n",
    "    \n",
    "    def reset(self):\n",
    "        self.iter = -1\n",
    "        self.initialise()"
   ]
  },
  {
   "cell_type": "code",
   "execution_count": 5,
   "id": "c8cc46e6",
   "metadata": {},
   "outputs": [],
   "source": [
    "def potfun(x):\n",
    "    return x**2 - 0.5*x**3 + 0.1*x**4\n",
    "def potder(x):\n",
    "    return 2*x - 1.5*x**2 + 0.4*x**3"
   ]
  },
  {
   "cell_type": "code",
   "execution_count": 11,
   "id": "24323dc4",
   "metadata": {},
   "outputs": [],
   "source": [
    "chain2 = ParticleChain(100, potfun, potder, 0.02, 0.01, 0.01)"
   ]
  },
  {
   "cell_type": "code",
   "execution_count": 14,
   "id": "f7cf7645",
   "metadata": {},
   "outputs": [],
   "source": [
    "chain2.reset()\n",
    "chain2.takeStep(100000)\n"
   ]
  },
  {
   "cell_type": "code",
   "execution_count": 15,
   "id": "d46fe48c",
   "metadata": {},
   "outputs": [
    {
     "data": {
      "text/plain": [
       "<matplotlib.legend.Legend at 0x7f4ea054f700>"
      ]
     },
     "execution_count": 15,
     "metadata": {},
     "output_type": "execute_result"
    },
    {
     "data": {
      "image/png": "[encoded data removed]",
      "text/plain": [
       "<Figure size 432x288 with 1 Axes>"
      ]
     },
     "metadata": {
      "needs_background": "light"
     },
     "output_type": "display_data"
    }
   ],
   "source": [
    "plt.plot(chain2.etot_traj)\n",
    "plt.plot(chain2.ke_traj)\n",
    "plt.plot(chain2.pe_traj)\n",
    "plt.legend(['etot','ke','pe'])"
   ]
  },
  {
   "cell_type": "code",
   "execution_count": 17,
   "id": "492e7a41",
   "metadata": {},
   "outputs": [],
   "source": [
    "v_abs = np.abs(chain2.v)"
   ]
  },
  {
   "cell_type": "code",
   "execution_count": 18,
   "id": "b2ebdaf6",
   "metadata": {},
   "outputs": [
    {
     "data": {
      "text/plain": [
       "array([0.064009  , 0.04878805, 0.16963662, 0.05594264, 0.13407433,\n",
       "       0.06615634, 0.01442525, 0.15660362, 0.0126826 , 0.18793455,\n",
       "       0.07497803, 0.01951502, 0.1089957 , 0.10183102, 0.03104171,\n",
       "       0.0123059 , 0.06736417, 0.1218847 , 0.21100297, 0.03847302,\n",
       "       0.07821281, 0.02734028, 0.02452888, 0.11629246, 0.24773121,\n",
       "       0.01483571, 0.08051636, 0.03515321, 0.05040901, 0.08612608,\n",
       "       0.09571296, 0.15064538, 0.05841728, 0.08083349, 0.00353412,\n",
       "       0.01211628, 0.03180917, 0.05406711, 0.14202562, 0.06001059,\n",
       "       0.11332295, 0.00079324, 0.05893654, 0.02473969, 0.03969085,\n",
       "       0.12229883, 0.30312827, 0.15277052, 0.05515905, 0.05127251,\n",
       "       0.1606619 , 0.04210572, 0.13650222, 0.08515269, 0.01961419,\n",
       "       0.0334189 , 0.02249675, 0.00962457, 0.01571344, 0.01122832,\n",
       "       0.11894899, 0.09627253, 0.02489531, 0.22086924, 0.2208001 ,\n",
       "       0.13804296, 0.06316686, 0.21175314, 0.25382892, 0.04765217,\n",
       "       0.12857959, 0.00049045, 0.14603935, 0.1340516 , 0.09673526,\n",
       "       0.04594481, 0.05016733, 0.00271411, 0.09395283, 0.07449014,\n",
       "       0.16194076, 0.01590344, 0.00286179, 0.15702157, 0.0678612 ,\n",
       "       0.03129886, 0.03963524, 0.11170695, 0.02592268, 0.06961569,\n",
       "       0.13208847, 0.11011284, 0.19011905, 0.0510418 , 0.09398869,\n",
       "       0.08498559, 0.05794566, 0.08068788, 0.09519393, 0.08493105])"
      ]
     },
     "execution_count": 18,
     "metadata": {},
     "output_type": "execute_result"
    }
   ],
   "source": [
    "v_abs"
   ]
  },
  {
   "cell_type": "code",
   "execution_count": 23,
   "id": "de874a51",
   "metadata": {},
   "outputs": [
    {
     "data": {
      "text/plain": [
       "(array([12., 10.,  9., 14.,  8.,  8.,  7.,  6.,  7.,  4.,  5.,  1.,  2.,\n",
       "         2.,  2.,  0.,  2.,  0.,  0.,  1.]),\n",
       " array([0.00049045, 0.01562234, 0.03075423, 0.04588612, 0.06101801,\n",
       "        0.0761499 , 0.0912818 , 0.10641369, 0.12154558, 0.13667747,\n",
       "        0.15180936, 0.16694125, 0.18207314, 0.19720503, 0.21233692,\n",
       "        0.22746881, 0.2426007 , 0.25773259, 0.27286448, 0.28799637,\n",
       "        0.30312827]),\n",
       " <BarContainer object of 20 artists>)"
      ]
     },
     "execution_count": 23,
     "metadata": {},
     "output_type": "execute_result"
    },
    {
     "data": {
      "image/png": "[encoded data removed]",
      "text/plain": [
       "<Figure size 432x288 with 1 Axes>"
      ]
     },
     "metadata": {
      "needs_background": "light"
     },
     "output_type": "display_data"
    }
   ],
   "source": [
    "plt.hist(v_abs,20)"
   ]
  },
  {
   "cell_type": "code",
   "execution_count": null,
   "id": "660ed0dc",
   "metadata": {},
   "outputs": [],
   "source": []
  }
 ],
 "metadata": {
  "kernelspec": {
   "display_name": "Python 3",
   "language": "python",
   "name": "python3"
  },
  "language_info": {
   "codemirror_mode": {
    "name": "ipython",
    "version": 3
   },
   "file_extension": ".py",
   "mimetype": "text/x-python",
   "name": "python",
   "nbconvert_exporter": "python",
   "pygments_lexer": "ipython3",
   "version": "3.8.8"
  }
 },
 "nbformat": 4,
 "nbformat_minor": 5
}
